{
  "nbformat": 4,
  "nbformat_minor": 0,
  "metadata": {
    "colab": {
      "provenance": [],
      "authorship_tag": "ABX9TyNpF+pjVmaK0A80bKb5jo4b",
      "include_colab_link": true
    },
    "kernelspec": {
      "name": "python3",
      "display_name": "Python 3"
    },
    "language_info": {
      "name": "python"
    }
  },
  "cells": [
    {
      "cell_type": "markdown",
      "metadata": {
        "id": "view-in-github",
        "colab_type": "text"
      },
      "source": [
        "<a href=\"https://colab.research.google.com/github/ARVresearch/State-Space-model-with-Markov-Chain/blob/main/Preface_State_Space_model_with_Regime_Switching.ipynb\" target=\"_parent\"><img src=\"https://colab.research.google.com/assets/colab-badge.svg\" alt=\"Open In Colab\"/></a>"
      ]
    },
    {
      "cell_type": "code",
      "execution_count": null,
      "metadata": {
        "id": "J7ntjjLzyOrO"
      },
      "outputs": [],
      "source": []
    },
    {
      "cell_type": "markdown",
      "source": [
        "# Preface\n",
        "\n",
        "\n",
        "1.   State-space models and Markov-switching models are important becuase they help understand the economy.\n",
        "2.   When economic system jumps from one regime to another the distribution of data seems to change. For example, macroeconomy predocially switches from boom to recession and back again, and dynamics differ between two regimes.\n",
        "3.   Unobserved varibles are important actors in our stories about consuption behavior, unemployment, inflation dynamics, indices of economic activities, monetary ploicies, and financial market.\n",
        "4.  Attempt is to marry two concepts - (i) State-space modelling: employed to make inference about unobserved variables (ii) Markov process: employed to make inferences about timing and nature of switches in the model.  \n",
        "\n",
        "\n"
      ],
      "metadata": {
        "id": "y8Zcl2GWyPTl"
      }
    }
  ]
}